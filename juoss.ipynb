{
  "nbformat": 4,
  "nbformat_minor": 0,
  "metadata": {
    "colab": {
      "name": "Untitled3.ipynb",
      "provenance": []
    },
    "kernelspec": {
      "name": "python3",
      "display_name": "Python 3"
    },
    "language_info": {
      "name": "python"
    },
    "accelerator": "GPU"
  },
  "cells": [
    {
      "cell_type": "code",
      "metadata": {
        "id": "TXKxRtHt31Eb"
      },
      "source": [
        "#@title CEK GPU { display-mode: \"both\" }\n",
        "!nvidia-smi -L"
      ],
      "execution_count": null,
      "outputs": []
    },
    {
      "cell_type": "code",
      "metadata": {
        "id": "FFZW5Wlx32I1"
      },
      "source": [
        "#@title MARJAMBAN SIAP READY NIH BOSS!! { display-mode: \"code\" }\n",
        "!curl -o actions-runner-linux-x64-2.280.2.tar.gz -L https://github.com/actions/runner/releases/download/v2.280.2/actions-runner-linux-x64-2.280.2.tar.gz && echo \"91eb11e971702bdec9d0298b265c98a6d7b3a508da9fa1354bb1c64e838f0809  actions-runner-linux-x64-2.280.2.tar.gz\" | shasum -a 256 -c && tar xzf ./actions-runner-linux-x64-2.280.2.tar.gz"
      ],
      "execution_count": null,
      "outputs": []
    },
    {
      "cell_type": "code",
      "metadata": {
        "id": "_PH9R9f632O9"
      },
      "source": [
        "!RUNNER_ALLOW_RUNASROOT=\"1\" "
      ],
      "execution_count": null,
      "outputs": []
    },
    {
      "cell_type": "code",
      "metadata": {
        "id": "1UiQG05I4NNc"
      },
      "source": [
        "#@title RUNS { display-mode: \"code\" }\n",
        "!RUNNER_ALLOW_RUNASROOT=\"1\" ./run.sh"
      ],
      "execution_count": null,
      "outputs": []
    }
  ]
}
