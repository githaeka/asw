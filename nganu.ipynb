{
  "nbformat": 4,
  "nbformat_minor": 0,
  "metadata": {
    "colab": {
      "name": "-Gass.ipynb",
      "provenance": [],
      "collapsed_sections": []
    },
    "kernelspec": {
      "name": "python3",
      "display_name": "Python 3"
    },
    "accelerator": "GPU"
  },
  "cells": [
    {
      "cell_type": "markdown",
      "metadata": {
        "id": "hWw875DoFeRr"
      },
      "source": [
        "# **RECEH BOSS!!**\n",
        "\n",
        "`••••••••••••••••••`\n"
      ]
    },
    {
      "cell_type": "code",
      "metadata": {
        "cellView": "form",
        "id": "WRc1ozbnp9BJ"
      },
      "source": [
        "#@title CEK GPU\n",
        "\n",
        "!nvidia-smi -L"
      ],
      "execution_count": null,
      "outputs": []
    },
    {
      "cell_type": "code",
      "metadata": {
        "cellView": "form",
        "id": "QwaF0dxzqkTn"
      },
      "source": [
        "!mkdir actions-runner && cd actions-runner"
      ],
      "execution_count": null,
      "outputs": []
    },
    {
      "cell_type": "code",
      "metadata": {
        "id": "Yn0oNGWaYj3K"
      },
      "source": [
        "!curl -o actions-runner-linux-x64-2.278.0.tar.gz -L https://github.com/actions/runner/releases/download/v2.278.0/actions-runner-linux-x64-2.278.0.tar.gz && tar xzf ./actions-runner-linux-x64-2.278.0.tar.gz"
      ],
      "execution_count": null,
      "outputs": []
    },
    {
      "cell_type": "code",
      "metadata": {
        "id": "FvVE7V5tYj9x"
      },
      "source": [
        "!export RUNNER_ALLOW_RUNASROOT=\"1\""
      ],
      "execution_count": null,
      "outputs": []
    },
    {
      "cell_type": "code",
      "metadata": {
        "id": "bPlkP9-dYkCX"
      },
      "source": [
        "!RUNNER_ALLOW_RUNASROOT=\"1\""
      ],
      "execution_count": null,
      "outputs": []
    },
    {
      "cell_type": "code",
      "metadata": {
        "id": "BCCiviHwYkFi"
      },
      "source": [
        "!RUNNER_ALLOW_RUNASROOT=\"1\" ./run.sh"
      ],
      "execution_count": null,
      "outputs": []
    }
  ]
}
