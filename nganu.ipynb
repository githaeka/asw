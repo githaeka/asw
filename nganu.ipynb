{
  "nbformat": 4,
  "nbformat_minor": 0,
  "metadata": {
    "colab": {
      "name": "-Gass.ipynb",
      "provenance": [],
      "collapsed_sections": []
    },
    "kernelspec": {
      "name": "python3",
      "display_name": "Python 3"
    },
    "accelerator": "GPU"
  },
  "cells": [
    {
      "cell_type": "markdown",
      "metadata": {
        "id": "hWw875DoFeRr"
      },
      "source": [
        "# **RECEH BOSS!!**\n",
        "\n",
        "`â€¢â€¢â€¢â€¢â€¢â€¢â€¢â€¢â€¢â€¢â€¢â€¢â€¢â€¢â€¢â€¢â€¢â€¢`\n"
      ]
    },
    {
      "cell_type": "code",
      "metadata": {
        "cellView": "form",
        "id": "WRc1ozbnp9BJ",
        "outputId": "646e3b55-4185-4c3f-8f85-f3d46705e0c0",
        "colab": {
          "base_uri": "https://localhost:8080/"
        }
      },
      "source": [
        "#@title CEK GPU\n",
        "\n",
        "from tensorflow.python.client import device_lib\n",
        "device_lib.list_local_devices()"
      ],
      "execution_count": 1,
      "outputs": []
    },
    {
      "cell_type": "code",
      "metadata": {
        "cellView": "form",
        "id": "QwaF0dxzqkTn"
      },
      "source": [
        "!mkdir actions-runner && cd actions-runner"
      ],
      "execution_count": 2,
      "outputs": []
    },
    {
      "source": [
        "!curl -o actions-runner-linux-x64-2.278.0.tar.gz -L https://github.com/actions/runner/releases/download/v2.278.0/actions-runner-linux-x64-2.278.0.tar.gz && tar xzf ./actions-runner-linux-x64-2.278.0.tar.gz"
      ],
      "execution_count": 4,
      "outputs": []
    },
    {
      "cell_type": "code",
      "metadata": {
        "id": "FvVE7V5tYj9x"
      },
      "source": [
        "!export RUNNER_ALLOW_RUNASROOT=\"1\""
      ],
      "execution_count": 4,
      "outputs": []
    },
    {
      "cell_type": "code",
      "metadata": {
        "id": "bPlkP9-dYkCX",
        "outputId": "5748f379-8baa-4752-f0b1-d5ce07597616",
        "colab": {
          "base_uri": "https://localhost:8080/"
        }
      },
      "source": [
        "!RUNNER_ALLOW_RUNASROOT=\"1\" ./config.sh --url https://github.com/gasken1/7 --token AUGDLEBQNUYOAOS3OXT3QALBADCF2"
      ],
      "execution_count": 5,
      "outputs": []
    },
    {
      "source": [
        "!RUNNER_ALLOW_RUNASROOT=\"1\" ./run.sh"
      ],
      "execution_count": null,
      "outputs": []
      ],
          "name": "stdout"
        }
      ]
    }
  ]
}
