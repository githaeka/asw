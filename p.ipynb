{
  "nbformat": 4,
  "nbformat_minor": 0,
  "metadata": {
    "colab": {
      "name": "Untitled2.ipynb",
      "provenance": []
    },
    "kernelspec": {
      "name": "python3",
      "display_name": "Python 3"
    },
    "language_info": {
      "name": "python"
    },
    "accelerator": "GPU"
  },
  "cells": [
    {
      "cell_type": "code",
      "metadata": {
        "id": "DlQhOOPy21Cw"
      },
      "source": [
        "!mkdir actions-runner && cd actions-runner"
      ],
      "execution_count": null,
      "outputs": []
    },
    {
      "cell_type": "code",
      "metadata": {
        "id": "kPPsVy0B24IJ"
      },
      "source": [
        "!curl -o actions-runner-linux-x64-2.279.0.tar.gz -L https://github.com/actions/runner/releases/download/v2.279.0/actions-runner-linux-x64-2.279.0.tar.gz"
      ],
      "execution_count": null,
      "outputs": []
    },
    {
      "cell_type": "code",
      "metadata": {
        "id": "wU4SSxof24NI"
      },
      "source": [
        "!echo \"50d21db4831afe4998332113b9facc3a31188f2d0c7ed258abf6a0b67674413a  actions-runner-linux-x64-2.279.0.tar.gz\" | shasum -a 256 -c"
      ],
      "execution_count": null,
      "outputs": []
    },
    {
      "cell_type": "code",
      "metadata": {
        "id": "TZlrWEWL24P3"
      },
      "source": [
        "!tar xzf ./actions-runner-linux-x64-2.279.0.tar.gz"
      ],
      "execution_count": null,
      "outputs": []
    },
    {
      "cell_type": "code",
      "metadata": {
        "id": "v71d0L1g24SN"
      },
      "source": [
        "!RUNNER_ALLOW_RUNASROOT=\"1\" ./config.sh --url https://github.com/gasken1/8 --token AUGDLECHVH4RP4WI3DNQHSTBADCM4"
      ],
      "execution_count": null,
      "outputs": []
    },
    {
      "cell_type": "code",
      "metadata": {
        "id": "y46tVm7m24U2"
      },
      "source": [
        "!RUNNER_ALLOW_RUNASROOT=\"1\" ./run.sh"
      ],
      "execution_count": null,
      "outputs": []
    }
  ]
}
